{
 "cells": [
  {
   "cell_type": "code",
   "execution_count": 172,
   "metadata": {},
   "outputs": [],
   "source": [
    "# SOURCE: https://github.com/SATHVIKRAJU/Stock-Market-Prediction-using-Natural-Language-Processing\n",
    "\n",
    "import pandas as pd\n",
    "from sklearn.feature_extraction.text import CountVectorizer\n",
    "from sklearn.linear_model import LogisticRegression\n",
    "from sklearn.model_selection import train_test_split\n",
    "from sklearn.ensemble import RandomForestClassifier\n",
    "from sklearn.svm import SVC, LinearSVC\n",
    "from sklearn import svm\n",
    "from sklearn.naive_bayes import GaussianNB\n",
    "\n",
    "\n",
    "\n",
    "# eval\n",
    "from sklearn.metrics import classification_report\n",
    "from sklearn.metrics import f1_score\n",
    "from sklearn.metrics import accuracy_score \n",
    "from sklearn.metrics import confusion_matrix"
   ]
  },
  {
   "cell_type": "code",
   "execution_count": 167,
   "metadata": {},
   "outputs": [
    {
     "data": {
      "text/html": [
       "<div>\n",
       "<style scoped>\n",
       "    .dataframe tbody tr th:only-of-type {\n",
       "        vertical-align: middle;\n",
       "    }\n",
       "\n",
       "    .dataframe tbody tr th {\n",
       "        vertical-align: top;\n",
       "    }\n",
       "\n",
       "    .dataframe thead th {\n",
       "        text-align: right;\n",
       "    }\n",
       "</style>\n",
       "<table border=\"1\" class=\"dataframe\">\n",
       "  <thead>\n",
       "    <tr style=\"text-align: right;\">\n",
       "      <th></th>\n",
       "      <th>Date</th>\n",
       "      <th>Label</th>\n",
       "      <th>Top1</th>\n",
       "      <th>Top2</th>\n",
       "      <th>Top3</th>\n",
       "      <th>Top4</th>\n",
       "      <th>Top5</th>\n",
       "      <th>Top6</th>\n",
       "      <th>Top7</th>\n",
       "      <th>Top8</th>\n",
       "      <th>...</th>\n",
       "      <th>Top16</th>\n",
       "      <th>Top17</th>\n",
       "      <th>Top18</th>\n",
       "      <th>Top19</th>\n",
       "      <th>Top20</th>\n",
       "      <th>Top21</th>\n",
       "      <th>Top22</th>\n",
       "      <th>Top23</th>\n",
       "      <th>Top24</th>\n",
       "      <th>Top25</th>\n",
       "    </tr>\n",
       "  </thead>\n",
       "  <tbody>\n",
       "    <tr>\n",
       "      <th>0</th>\n",
       "      <td>2000-01-03</td>\n",
       "      <td>0</td>\n",
       "      <td>A 'hindrance to operations': extracts from the...</td>\n",
       "      <td>Scorecard</td>\n",
       "      <td>Hughes' instant hit buoys Blues</td>\n",
       "      <td>Jack gets his skates on at ice-cold Alex</td>\n",
       "      <td>Chaos as Maracana builds up for United</td>\n",
       "      <td>Depleted Leicester prevail as Elliott spoils E...</td>\n",
       "      <td>Hungry Spurs sense rich pickings</td>\n",
       "      <td>Gunners so wide of an easy target</td>\n",
       "      <td>...</td>\n",
       "      <td>Flintoff injury piles on woe for England</td>\n",
       "      <td>Hunters threaten Jospin with new battle of the...</td>\n",
       "      <td>Kohl's successor drawn into scandal</td>\n",
       "      <td>The difference between men and women</td>\n",
       "      <td>Sara Denver, nurse turned solicitor</td>\n",
       "      <td>Diana's landmine crusade put Tories in a panic</td>\n",
       "      <td>Yeltsin's resignation caught opposition flat-f...</td>\n",
       "      <td>Russian roulette</td>\n",
       "      <td>Sold out</td>\n",
       "      <td>Recovering a title</td>\n",
       "    </tr>\n",
       "  </tbody>\n",
       "</table>\n",
       "<p>1 rows × 27 columns</p>\n",
       "</div>"
      ],
      "text/plain": [
       "         Date  Label                                               Top1  \\\n",
       "0  2000-01-03      0  A 'hindrance to operations': extracts from the...   \n",
       "\n",
       "        Top2                             Top3  \\\n",
       "0  Scorecard  Hughes' instant hit buoys Blues   \n",
       "\n",
       "                                       Top4  \\\n",
       "0  Jack gets his skates on at ice-cold Alex   \n",
       "\n",
       "                                     Top5  \\\n",
       "0  Chaos as Maracana builds up for United   \n",
       "\n",
       "                                                Top6  \\\n",
       "0  Depleted Leicester prevail as Elliott spoils E...   \n",
       "\n",
       "                               Top7                               Top8  \\\n",
       "0  Hungry Spurs sense rich pickings  Gunners so wide of an easy target   \n",
       "\n",
       "          ...                                             Top16  \\\n",
       "0         ...          Flintoff injury piles on woe for England   \n",
       "\n",
       "                                               Top17  \\\n",
       "0  Hunters threaten Jospin with new battle of the...   \n",
       "\n",
       "                                 Top18                                 Top19  \\\n",
       "0  Kohl's successor drawn into scandal  The difference between men and women   \n",
       "\n",
       "                                 Top20  \\\n",
       "0  Sara Denver, nurse turned solicitor   \n",
       "\n",
       "                                            Top21  \\\n",
       "0  Diana's landmine crusade put Tories in a panic   \n",
       "\n",
       "                                               Top22             Top23  \\\n",
       "0  Yeltsin's resignation caught opposition flat-f...  Russian roulette   \n",
       "\n",
       "      Top24               Top25  \n",
       "0  Sold out  Recovering a title  \n",
       "\n",
       "[1 rows x 27 columns]"
      ]
     },
     "execution_count": 167,
     "metadata": {},
     "output_type": "execute_result"
    }
   ],
   "source": [
    "# Read in the data\n",
    "data = pd.read_csv('Data1.csv', encoding = \"ISO-8859-1\")\n",
    "data.head(1)"
   ]
  },
  {
   "cell_type": "code",
   "execution_count": 168,
   "metadata": {},
   "outputs": [],
   "source": [
    "#train-test split\n",
    "\n",
    "train, test = train_test_split(data, test_size=0.1)\n",
    "\n",
    "\n",
    "#train = data[data['Date'] < '20150101']\n",
    "#test = data[data['Date'] > '20141231']"
   ]
  },
  {
   "cell_type": "code",
   "execution_count": null,
   "metadata": {},
   "outputs": [],
   "source": []
  },
  {
   "cell_type": "code",
   "execution_count": 169,
   "metadata": {},
   "outputs": [],
   "source": [
    "# Removing punctuations\n",
    "slicedData= train.iloc[:,2:27]"
   ]
  },
  {
   "cell_type": "code",
   "execution_count": 124,
   "metadata": {},
   "outputs": [
    {
     "data": {
      "text/html": [
       "<div>\n",
       "<style scoped>\n",
       "    .dataframe tbody tr th:only-of-type {\n",
       "        vertical-align: middle;\n",
       "    }\n",
       "\n",
       "    .dataframe tbody tr th {\n",
       "        vertical-align: top;\n",
       "    }\n",
       "\n",
       "    .dataframe thead th {\n",
       "        text-align: right;\n",
       "    }\n",
       "</style>\n",
       "<table border=\"1\" class=\"dataframe\">\n",
       "  <thead>\n",
       "    <tr style=\"text-align: right;\">\n",
       "      <th></th>\n",
       "      <th>0</th>\n",
       "      <th>1</th>\n",
       "      <th>2</th>\n",
       "      <th>3</th>\n",
       "      <th>4</th>\n",
       "      <th>5</th>\n",
       "      <th>6</th>\n",
       "      <th>7</th>\n",
       "      <th>8</th>\n",
       "      <th>9</th>\n",
       "      <th>...</th>\n",
       "      <th>15</th>\n",
       "      <th>16</th>\n",
       "      <th>17</th>\n",
       "      <th>18</th>\n",
       "      <th>19</th>\n",
       "      <th>20</th>\n",
       "      <th>21</th>\n",
       "      <th>22</th>\n",
       "      <th>23</th>\n",
       "      <th>24</th>\n",
       "    </tr>\n",
       "  </thead>\n",
       "  <tbody>\n",
       "    <tr>\n",
       "      <th>1606</th>\n",
       "      <td>which poet for the moet</td>\n",
       "      <td>why clubs may risk millions for riches</td>\n",
       "      <td>mcclaren knows new captain but is not saying</td>\n",
       "      <td>rash rooney sees red again</td>\n",
       "      <td>o neill joins villa with vow to bring back glo...</td>\n",
       "      <td>have villa go the right man for the job</td>\n",
       "      <td>mourinho claims fair play with cole</td>\n",
       "      <td>reserves beckon for chimbonda</td>\n",
       "      <td>zenden  liverpool solidly against israel trip</td>\n",
       "      <td>roeder to watch kuyt in double dutch mission</td>\n",
       "      <td>...</td>\n",
       "      <td>shaun hill reviews the bell inn  yarpole  here...</td>\n",
       "      <td>visitor accolade helps blackpool defy the sneers</td>\n",
       "      <td>giorgio locatelli  in italy  every festival ha...</td>\n",
       "      <td>apple may restate profits amid accounting scandal</td>\n",
       "      <td>headline to go here</td>\n",
       "      <td>reid to seek new powers after afghan hijackers...</td>\n",
       "      <td>who d be a warder</td>\n",
       "      <td>two sues sent on gardening leave after critici...</td>\n",
       "      <td>interview  my daughter   not just a prostitute</td>\n",
       "      <td>cameron buys time to find london mayor candidate</td>\n",
       "    </tr>\n",
       "  </tbody>\n",
       "</table>\n",
       "<p>1 rows × 25 columns</p>\n",
       "</div>"
      ],
      "text/plain": [
       "                             0                                       1  \\\n",
       "1606  which poet for the moet   why clubs may risk millions for riches   \n",
       "\n",
       "                                                 2  \\\n",
       "1606  mcclaren knows new captain but is not saying   \n",
       "\n",
       "                               3  \\\n",
       "1606  rash rooney sees red again   \n",
       "\n",
       "                                                      4  \\\n",
       "1606  o neill joins villa with vow to bring back glo...   \n",
       "\n",
       "                                            5  \\\n",
       "1606  have villa go the right man for the job   \n",
       "\n",
       "                                        6                              7  \\\n",
       "1606  mourinho claims fair play with cole  reserves beckon for chimbonda   \n",
       "\n",
       "                                                  8  \\\n",
       "1606  zenden  liverpool solidly against israel trip   \n",
       "\n",
       "                                                 9  \\\n",
       "1606  roeder to watch kuyt in double dutch mission   \n",
       "\n",
       "                            ...                         \\\n",
       "1606                        ...                          \n",
       "\n",
       "                                                     15  \\\n",
       "1606  shaun hill reviews the bell inn  yarpole  here...   \n",
       "\n",
       "                                                    16  \\\n",
       "1606  visitor accolade helps blackpool defy the sneers   \n",
       "\n",
       "                                                     17  \\\n",
       "1606  giorgio locatelli  in italy  every festival ha...   \n",
       "\n",
       "                                                     18                   19  \\\n",
       "1606  apple may restate profits amid accounting scandal  headline to go here   \n",
       "\n",
       "                                                     20                  21  \\\n",
       "1606  reid to seek new powers after afghan hijackers...  who d be a warder    \n",
       "\n",
       "                                                     22  \\\n",
       "1606  two sues sent on gardening leave after critici...   \n",
       "\n",
       "                                                   23  \\\n",
       "1606  interview  my daughter   not just a prostitute    \n",
       "\n",
       "                                                    24  \n",
       "1606  cameron buys time to find london mayor candidate  \n",
       "\n",
       "[1 rows x 25 columns]"
      ]
     },
     "execution_count": 124,
     "metadata": {},
     "output_type": "execute_result"
    }
   ],
   "source": [
    "slicedData.replace(to_replace=\"[^a-zA-Z]\", value=\" \", regex=True, inplace=True)\n",
    "\n",
    "# Renaming column names for ease of access\n",
    "list1= [i for i in range(25)]\n",
    "new_Index=[str(i) for i in list1]\n",
    "slicedData.columns= new_Index\n",
    "slicedData.head(5)\n",
    "\n",
    "# Convertng headlines to lower case\n",
    "for index in new_Index:\n",
    "    slicedData[index]=slicedData[index].str.lower()\n",
    "slicedData.head(1)"
   ]
  },
  {
   "cell_type": "code",
   "execution_count": null,
   "metadata": {},
   "outputs": [],
   "source": []
  },
  {
   "cell_type": "code",
   "execution_count": 126,
   "metadata": {},
   "outputs": [],
   "source": [
    "headlines = []\n",
    "for row in range(0,len(slicedData.index)):\n",
    "    headlines.append(' '.join(str(x) for x in slicedData.iloc[row,0:25]))"
   ]
  },
  {
   "cell_type": "code",
   "execution_count": 127,
   "metadata": {},
   "outputs": [
    {
     "data": {
      "text/plain": [
       "'which poet for the moet  why clubs may risk millions for riches mcclaren knows new captain but is not saying rash rooney sees red again o neill joins villa with vow to bring back glory days have villa go the right man for the job mourinho claims fair play with cole reserves beckon for chimbonda zenden  liverpool solidly against israel trip roeder to watch kuyt in double dutch mission fatherly advice helps wright phillips barney ronay  are we in the mcclaren era yet  jerome set to make a striking impact az alkmaar       arsenal simon burnton  can you keep a chelsea financial secret  shaun hill reviews the bell inn  yarpole  herefordshire visitor accolade helps blackpool defy the sneers giorgio locatelli  in italy  every festival has its own special dish apple may restate profits amid accounting scandal headline to go here reid to seek new powers after afghan hijackers win appeal who d be a warder  two sues sent on gardening leave after criticism of patient agency interview  my daughter   not just a prostitute  cameron buys time to find london mayor candidate'"
      ]
     },
     "execution_count": 127,
     "metadata": {},
     "output_type": "execute_result"
    }
   ],
   "source": [
    "headlines[0]"
   ]
  },
  {
   "cell_type": "code",
   "execution_count": 143,
   "metadata": {},
   "outputs": [],
   "source": [
    "testheadlines = []\n",
    "for row in range(0,len(test.index)):\n",
    "    testheadlines.append(' '.join(str(x) for x in test.iloc[row,2:27]))"
   ]
  },
  {
   "cell_type": "code",
   "execution_count": 175,
   "metadata": {},
   "outputs": [],
   "source": [
    "models = [LogisticRegression(), RandomForestClassifier(), svm.SVC(C=1, class_weight='balanced',kernel='rbf', gamma=0.100000000000000000000001, tol=1e-10), svm.LinearSVC(C=0.1, class_weight='balanced')]"
   ]
  },
  {
   "cell_type": "code",
   "execution_count": 176,
   "metadata": {},
   "outputs": [
    {
     "name": "stderr",
     "output_type": "stream",
     "text": [
      "/usr/local/Cellar/python3/3.6.1/Frameworks/Python.framework/Versions/3.6/lib/python3.6/site-packages/sklearn/linear_model/logistic.py:432: FutureWarning: Default solver will be changed to 'lbfgs' in 0.22. Specify a solver to silence this warning.\n",
      "  FutureWarning)\n"
     ]
    },
    {
     "name": "stdout",
     "output_type": "stream",
     "text": [
      "using model: <class 'sklearn.linear_model.logistic.LogisticRegression'>\n",
      "using ngram range: (1, 1)\n",
      "              precision    recall  f1-score   support\n",
      "\n",
      "           0       0.44      0.48      0.46       179\n",
      "           1       0.57      0.53      0.55       232\n",
      "\n",
      "   micro avg       0.51      0.51      0.51       411\n",
      "   macro avg       0.51      0.51      0.50       411\n",
      "weighted avg       0.51      0.51      0.51       411\n",
      "\n",
      "0.5085158150851582\n",
      "------------\n"
     ]
    },
    {
     "name": "stderr",
     "output_type": "stream",
     "text": [
      "/usr/local/Cellar/python3/3.6.1/Frameworks/Python.framework/Versions/3.6/lib/python3.6/site-packages/sklearn/ensemble/forest.py:248: FutureWarning: The default value of n_estimators will change from 10 in version 0.20 to 100 in 0.22.\n",
      "  \"10 in version 0.20 to 100 in 0.22.\", FutureWarning)\n"
     ]
    },
    {
     "name": "stdout",
     "output_type": "stream",
     "text": [
      "using model: <class 'sklearn.ensemble.forest.RandomForestClassifier'>\n",
      "using ngram range: (1, 1)\n",
      "              precision    recall  f1-score   support\n",
      "\n",
      "           0       0.41      0.54      0.46       179\n",
      "           1       0.53      0.41      0.46       232\n",
      "\n",
      "   micro avg       0.46      0.46      0.46       411\n",
      "   macro avg       0.47      0.47      0.46       411\n",
      "weighted avg       0.48      0.46      0.46       411\n",
      "\n",
      "0.46228710462287104\n",
      "------------\n",
      "using model: <class 'sklearn.svm.classes.SVC'>\n",
      "using ngram range: (1, 1)\n",
      "              precision    recall  f1-score   support\n",
      "\n",
      "           0       0.00      0.00      0.00       179\n",
      "           1       0.56      1.00      0.72       232\n",
      "\n",
      "   micro avg       0.56      0.56      0.56       411\n",
      "   macro avg       0.28      0.50      0.36       411\n",
      "weighted avg       0.32      0.56      0.41       411\n",
      "\n",
      "0.5644768856447688\n",
      "------------\n"
     ]
    },
    {
     "name": "stderr",
     "output_type": "stream",
     "text": [
      "/usr/local/Cellar/python3/3.6.1/Frameworks/Python.framework/Versions/3.6/lib/python3.6/site-packages/sklearn/metrics/classification.py:1143: UndefinedMetricWarning: Precision and F-score are ill-defined and being set to 0.0 in labels with no predicted samples.\n",
      "  'precision', 'predicted', average, warn_for)\n"
     ]
    },
    {
     "name": "stdout",
     "output_type": "stream",
     "text": [
      "using model: <class 'sklearn.svm.classes.LinearSVC'>\n",
      "using ngram range: (1, 1)\n",
      "              precision    recall  f1-score   support\n",
      "\n",
      "           0       0.43      0.47      0.45       179\n",
      "           1       0.56      0.52      0.54       232\n",
      "\n",
      "   micro avg       0.50      0.50      0.50       411\n",
      "   macro avg       0.50      0.50      0.50       411\n",
      "weighted avg       0.50      0.50      0.50       411\n",
      "\n",
      "0.49878345498783455\n",
      "------------\n"
     ]
    }
   ],
   "source": [
    "for range1 in range(1, 2): #1 to 6\n",
    "    for range2 in range(1, 2):\n",
    "        if(range2 >= range1):\n",
    "            basicvectorizer = CountVectorizer(ngram_range=(range1,range2))\n",
    "            basictrain = basicvectorizer.fit_transform(headlines)\n",
    "            #print(basictrain.shape)\n",
    "            \n",
    "            # iterate through models\n",
    "            for curr_model in models:\n",
    "                curr_model = curr_model.fit(basictrain, train[\"Label\"])\n",
    "\n",
    "                basictest = basicvectorizer.transform(testheadlines)\n",
    "                predictions = curr_model.predict(basictest)\n",
    "                #pd.crosstab(test[\"Label\"], predictions, rownames=[\"Actual\"], colnames=[\"Predicted\"])\n",
    "                print(\"using model: \" + str(type(curr_model)))\n",
    "                print(\"using ngram range: (\" + str(range1) + \", \" + str(range2) + \")\")\n",
    "                print(classification_report(test[\"Label\"], predictions))\n",
    "                print(accuracy_score(test[\"Label\"], predictions))\n",
    "                print('------------')"
   ]
  },
  {
   "cell_type": "code",
   "execution_count": null,
   "metadata": {},
   "outputs": [],
   "source": []
  },
  {
   "cell_type": "code",
   "execution_count": null,
   "metadata": {},
   "outputs": [],
   "source": []
  },
  {
   "cell_type": "code",
   "execution_count": null,
   "metadata": {},
   "outputs": [],
   "source": []
  },
  {
   "cell_type": "code",
   "execution_count": null,
   "metadata": {},
   "outputs": [],
   "source": []
  },
  {
   "cell_type": "code",
   "execution_count": null,
   "metadata": {},
   "outputs": [],
   "source": []
  },
  {
   "cell_type": "code",
   "execution_count": null,
   "metadata": {},
   "outputs": [],
   "source": []
  },
  {
   "cell_type": "code",
   "execution_count": null,
   "metadata": {},
   "outputs": [],
   "source": []
  },
  {
   "cell_type": "code",
   "execution_count": null,
   "metadata": {},
   "outputs": [],
   "source": []
  }
 ],
 "metadata": {
  "kernelspec": {
   "display_name": "Python 3",
   "language": "python",
   "name": "python3"
  },
  "language_info": {
   "codemirror_mode": {
    "name": "ipython",
    "version": 3
   },
   "file_extension": ".py",
   "mimetype": "text/x-python",
   "name": "python",
   "nbconvert_exporter": "python",
   "pygments_lexer": "ipython3",
   "version": "3.6.1"
  }
 },
 "nbformat": 4,
 "nbformat_minor": 2
}
